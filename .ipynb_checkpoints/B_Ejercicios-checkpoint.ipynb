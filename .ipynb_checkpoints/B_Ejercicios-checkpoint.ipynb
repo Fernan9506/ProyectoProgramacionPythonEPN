{
 "cells": [
  {
   "cell_type": "code",
   "execution_count": 43,
   "metadata": {},
   "outputs": [],
   "source": [
    "# pip install numpy\n",
    "import numpy as np\n",
    "#Lectura de Archivo de Analisis\n",
    "path = \"./forbes.csv\"\n",
    "datos = np.genfromtxt(path, delimiter= ',', usecols=(0,1), dtype=str)"
   ]
  },
  {
   "cell_type": "code",
   "execution_count": 44,
   "metadata": {},
   "outputs": [
    {
     "data": {
      "text/plain": [
       "array([['\\ufeffICBC;Financials;Major Banks;Asia;China;215', '6;148'],\n",
       "       ['China Construction Bank;Financials;Regional Banks;Asia;China;174',\n",
       "        '4;121'],\n",
       "       ['Agricultural Bank of China;Financials;Regional Banks;Asia;China;141',\n",
       "        '1;136'],\n",
       "       ...,\n",
       "       ['Synovus Financial;Financials;Regional Banks;North America;United States;3',\n",
       "        '4;1'],\n",
       "       ['Equifax;Consumer Discretionary;Business & Personal Services;North America;United States;8',\n",
       "        '5;2'],\n",
       "       ['UNY Group Holdings;Consumer Discretionary;Specialty Stores;Asia;Japan;1',\n",
       "        '4;10']], dtype='<U116')"
      ]
     },
     "execution_count": 44,
     "metadata": {},
     "output_type": "execute_result"
    }
   ],
   "source": [
    "datos"
   ]
  },
  {
   "cell_type": "code",
   "execution_count": null,
   "metadata": {
    "collapsed": true
   },
   "outputs": [],
   "source": []
  },
  {
   "cell_type": "code",
   "execution_count": null,
   "metadata": {},
   "outputs": [],
   "source": []
  }
 ],
 "metadata": {
  "kernelspec": {
   "display_name": "Python 3",
   "language": "python",
   "name": "python3"
  },
  "language_info": {
   "codemirror_mode": {
    "name": "ipython",
    "version": 3
   },
   "file_extension": ".py",
   "mimetype": "text/x-python",
   "name": "python",
   "nbconvert_exporter": "python",
   "pygments_lexer": "ipython3",
   "version": "3.8.3"
  }
 },
 "nbformat": 4,
 "nbformat_minor": 4
}
