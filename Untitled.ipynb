{
 "cells": [
  {
   "cell_type": "markdown",
   "metadata": {},
   "source": [
    "<center> \n",
    "    <h1>Escuela Politécnica Nacional</h1> \n",
    "</center> \n",
    "\n",
    "![COMIDA](https://www.epn.edu.ec/wp-content/uploads/2014/08/LOGO_EPN.jpg)\n",
    "\n",
    "<center> \n",
    "    <span style=\"color:blue\"><h2>Maestría en Sistemas de Información </h2></span>\n",
    "    <br/>\n",
    "    <span style=\"color:red\"><h3>Mencion en Inteligencia de Negocios y Analítica de Datos Masivos</h3></span>\n",
    "</center>\n",
    "\n",
    "\n",
    "### Alumno: Fernando Hernandez Carrasco\n",
    "### Fecha: 10 de Octubre del 2020\n",
    "\n",
    "\n",
    "<center> \n",
    "    <span style=\"color:blue\"><h2>Proyecto Programación Python</h2></span>\n",
    "</center>\n"
   ]
  },
  {
   "cell_type": "code",
   "execution_count": null,
   "metadata": {},
   "outputs": [],
   "source": []
  },
  {
   "cell_type": "code",
   "execution_count": null,
   "metadata": {},
   "outputs": [],
   "source": []
  }
 ],
 "metadata": {
  "kernelspec": {
   "display_name": "Python 3",
   "language": "python",
   "name": "python3"
  },
  "language_info": {
   "codemirror_mode": {
    "name": "ipython",
    "version": 3
   },
   "file_extension": ".py",
   "mimetype": "text/x-python",
   "name": "python",
   "nbconvert_exporter": "python",
   "pygments_lexer": "ipython3",
   "version": "3.8.3"
  }
 },
 "nbformat": 4,
 "nbformat_minor": 4
}
